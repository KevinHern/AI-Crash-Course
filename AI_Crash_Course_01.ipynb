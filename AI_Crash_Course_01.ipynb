{
  "nbformat": 4,
  "nbformat_minor": 0,
  "metadata": {
    "colab": {
      "name": "AI-Crash_Course_01.ipynb",
      "provenance": [],
      "collapsed_sections": [],
      "toc_visible": true,
      "authorship_tag": "ABX9TyPrQOQbvHID51crLeRorecT",
      "include_colab_link": true
    },
    "kernelspec": {
      "name": "python3",
      "display_name": "Python 3"
    },
    "language_info": {
      "name": "python"
    }
  },
  "cells": [
    {
      "cell_type": "markdown",
      "metadata": {
        "id": "view-in-github",
        "colab_type": "text"
      },
      "source": [
        "<a href=\"https://colab.research.google.com/github/KevinHern/AI-Crash-Course/blob/main/AI_Crash_Course_01.ipynb\" target=\"_parent\"><img src=\"https://colab.research.google.com/assets/colab-badge.svg\" alt=\"Open In Colab\"/></a>"
      ]
    },
    {
      "cell_type": "markdown",
      "metadata": {
        "id": "w3L6p00dGZs4"
      },
      "source": [
        "# Regressions\n",
        "\n",
        "[Presentation: AI Crash Course 01](https://view.genial.ly/61944323572a5e0d861065bb/presentation-ai-crashcourse01)"
      ]
    },
    {
      "cell_type": "markdown",
      "metadata": {
        "id": "v2hOe4K0Hmut"
      },
      "source": [
        "## 0) Preparations"
      ]
    },
    {
      "cell_type": "code",
      "metadata": {
        "id": "TEWUjG0IIJkk"
      },
      "source": [
        "# ----- Libraries ----- #\n",
        "\n",
        "# For graph plotting\n",
        "import matplotlib.pyplot as plt\n",
        "\n",
        "# For dataset manipulation\n",
        "import pandas as pd\n",
        "\n",
        "# For visualizing more complex maps\n",
        "import seaborn as sns\n",
        "\n",
        "# For statistical analysis and Models\n",
        "import statsmodels.api as sm\n",
        "import statsmodels.formula.api as smapi\n",
        "import numpy as np"
      ],
      "execution_count": null,
      "outputs": []
    },
    {
      "cell_type": "code",
      "metadata": {
        "id": "8KMmvqGMGOXu"
      },
      "source": [
        "'''\n",
        "All the information regarding the dataset used for this demo can be found in the following link:\n",
        "https://archive.ics.uci.edu/ml/datasets/auto+mpg\n",
        "'''\n",
        "\n",
        "# Getting Dataset\n",
        "!wget http://archive.ics.uci.edu/ml/machine-learning-databases/auto-mpg/auto-mpg.data"
      ],
      "execution_count": null,
      "outputs": []
    },
    {
      "cell_type": "code",
      "metadata": {
        "id": "tgXcpexoIG9P"
      },
      "source": [
        "# Loading Dataset and have a glimpse about it\n",
        "column_names = ['MPG','Cylinders','Displacement','Horsepower','Weight',\n",
        "                'Acceleration', 'Model Year', 'Origin']\n",
        "\n",
        "raw_dataset = pd.read_csv(\"auto-mpg.data\", names=column_names,\n",
        "                      na_values = \"?\", comment='\\t',\n",
        "                      sep=\" \", skipinitialspace=True)\n",
        "\n",
        "# Brief Statistical Summary of the dataset\n",
        "raw_dataset.describe()"
      ],
      "execution_count": null,
      "outputs": []
    },
    {
      "cell_type": "code",
      "metadata": {
        "id": "6W3AsBCPQMHu"
      },
      "source": [
        "# Lets check columns\n",
        "raw_dataset.columns"
      ],
      "execution_count": null,
      "outputs": []
    },
    {
      "cell_type": "code",
      "metadata": {
        "id": "FsYYb14mKiz6"
      },
      "source": [
        "# Summary of the dataset\n",
        "raw_dataset.head()"
      ],
      "execution_count": null,
      "outputs": []
    },
    {
      "cell_type": "code",
      "metadata": {
        "id": "pc8kp61PKzl5"
      },
      "source": [
        "# Returns a form of (# rows, # columns)\n",
        "raw_dataset.shape"
      ],
      "execution_count": null,
      "outputs": []
    },
    {
      "cell_type": "code",
      "metadata": {
        "id": "taL7hSd9LHpj"
      },
      "source": [
        "# Lets make a copy\n",
        "new_dataset = raw_dataset.copy()\n",
        "\n",
        "# Lets check for null values\n",
        "new_dataset.isna().sum()\n",
        "\n",
        "# Dropping null rows\n",
        "new_dataset = new_dataset.dropna()\n",
        "\n",
        "# Checking new dataset\n",
        "new_dataset.head()"
      ],
      "execution_count": null,
      "outputs": []
    },
    {
      "cell_type": "code",
      "metadata": {
        "id": "l-wSRqvEPoLo"
      },
      "source": [
        "# Lets visualize the data\n",
        "sns.pairplot(new_dataset[[\"Cylinders\", \"Displacement\", \"Weight\", \"Acceleration\", \"Horsepower\", \"MPG\"]], diag_kind=\"kde\")"
      ],
      "execution_count": null,
      "outputs": []
    },
    {
      "cell_type": "markdown",
      "metadata": {
        "id": "4rKsREMcO91a"
      },
      "source": [
        "## 1) Linear Model (Simplest)\n",
        "\n",
        "One independent variables tries to explain the target dependent variable"
      ]
    },
    {
      "cell_type": "code",
      "metadata": {
        "id": "SLOxsRcIPtTO"
      },
      "source": [
        "# Lets try to predict MPG based on Acceleration\n",
        "model = smapi.ols(formula=\"MPG ~ Horsepower\", data=new_dataset)\n",
        "model = model.fit()\n",
        "print(model.summary())"
      ],
      "execution_count": null,
      "outputs": []
    },
    {
      "cell_type": "code",
      "metadata": {
        "id": "UBGnFIGtJ_9e"
      },
      "source": [
        "# Lets try to predict MPG based on Acceleration\n",
        "model = smapi.ols(formula=\"MPG ~ Acceleration\", data=new_dataset)\n",
        "model = model.fit()\n",
        "print(model.summary())"
      ],
      "execution_count": null,
      "outputs": []
    },
    {
      "cell_type": "code",
      "metadata": {
        "id": "21ZH5P4WKQxZ"
      },
      "source": [
        "# Lets try to predict MPG based on Weight\n",
        "model = smapi.ols(formula=\"MPG ~ Weight\", data=new_dataset)\n",
        "model = model.fit()\n",
        "print(model.summary())"
      ],
      "execution_count": null,
      "outputs": []
    },
    {
      "cell_type": "code",
      "metadata": {
        "id": "VW40QKK9XNd-"
      },
      "source": [
        "# Lets try to predict MPG based on Displacement\n",
        "model = smapi.ols(formula=\"MPG ~ Displacement\", data=new_dataset)\n",
        "model = model.fit()\n",
        "print(model.summary())"
      ],
      "execution_count": null,
      "outputs": []
    },
    {
      "cell_type": "code",
      "metadata": {
        "id": "8RN9lPoZXSje"
      },
      "source": [
        "# Lets try to predict MPG based on Cylinders\n",
        "model = smapi.ols(formula=\"MPG ~ Cylinders\", data=new_dataset)\n",
        "model = model.fit()\n",
        "print(model.summary())"
      ],
      "execution_count": null,
      "outputs": []
    },
    {
      "cell_type": "markdown",
      "metadata": {
        "id": "okEGIBRLLg1z"
      },
      "source": [
        "## 2) Multilinear Model"
      ]
    },
    {
      "cell_type": "code",
      "metadata": {
        "id": "1qxYYr1jKd_l"
      },
      "source": [
        "model = smapi.ols(formula=\"MPG ~ Acceleration + Weight + Displacement\", data=new_dataset)\n",
        "model = model.fit()\n",
        "print(model.summary())"
      ],
      "execution_count": null,
      "outputs": []
    },
    {
      "cell_type": "code",
      "metadata": {
        "id": "ncn_CmxWYqL1"
      },
      "source": [
        "model = smapi.ols(formula=\"MPG ~ Acceleration + Weight\", data=new_dataset)\n",
        "model = model.fit()\n",
        "print(model.summary())"
      ],
      "execution_count": null,
      "outputs": []
    },
    {
      "cell_type": "code",
      "metadata": {
        "id": "t9ZwKO5NKiCL"
      },
      "source": [
        "model = smapi.ols(formula=\"MPG ~ Horsepower + Cylinders\", data=new_dataset)\n",
        "model = model.fit()\n",
        "print(model.summary())"
      ],
      "execution_count": null,
      "outputs": []
    },
    {
      "cell_type": "code",
      "metadata": {
        "id": "0T7fCBYSYEt7"
      },
      "source": [
        "model = smapi.ols(formula=\"MPG ~ Acceleration + Weight + Displacement + Cylinders\", data=new_dataset)\n",
        "model = model.fit()\n",
        "print(model.summary())"
      ],
      "execution_count": null,
      "outputs": []
    },
    {
      "cell_type": "code",
      "metadata": {
        "id": "-GxTF1WtXwmx"
      },
      "source": [
        "model = smapi.ols(formula=\"MPG ~ Acceleration + Weight + Displacement + Horsepower + Cylinders\", data=new_dataset)\n",
        "model = model.fit()\n",
        "print(model.summary())"
      ],
      "execution_count": null,
      "outputs": []
    },
    {
      "cell_type": "markdown",
      "metadata": {
        "id": "XO7kBZ-MPLaP"
      },
      "source": [
        "## 3) Polynomial Regression"
      ]
    },
    {
      "cell_type": "code",
      "metadata": {
        "id": "M2G-7hxGPNbe"
      },
      "source": [
        "model = smapi.ols(formula=\"MPG ~ I(Weight**2)\", data=new_dataset)\n",
        "model = model.fit()\n",
        "print(model.summary())"
      ],
      "execution_count": null,
      "outputs": []
    },
    {
      "cell_type": "code",
      "metadata": {
        "id": "XsJIaTjvZKkp"
      },
      "source": [
        "model = smapi.ols(formula=\"MPG ~ I(Horsepower**2)\", data=new_dataset)\n",
        "model = model.fit()\n",
        "print(model.summary())"
      ],
      "execution_count": null,
      "outputs": []
    },
    {
      "cell_type": "code",
      "metadata": {
        "id": "cZI5iY45ZgQ4"
      },
      "source": [
        "model = smapi.ols(formula=\"MPG ~ I(Horsepower**2) + I(Weight**2)\", data=new_dataset)\n",
        "model = model.fit()\n",
        "print(model.summary())"
      ],
      "execution_count": null,
      "outputs": []
    },
    {
      "cell_type": "code",
      "metadata": {
        "id": "K2KF7ZYhZuEl"
      },
      "source": [
        "model = smapi.ols(formula=\"MPG ~ I(Horsepower**2) + I(Weight**2) + Acceleration\", data=new_dataset)\n",
        "model = model.fit()\n",
        "print(model.summary())"
      ],
      "execution_count": null,
      "outputs": []
    },
    {
      "cell_type": "code",
      "metadata": {
        "id": "mAXYOI9RZxxM"
      },
      "source": [
        "model = smapi.ols(formula=\"MPG ~ I(Horsepower**2) + Weight + Acceleration\", data=new_dataset)\n",
        "model = model.fit()\n",
        "print(model.summary())"
      ],
      "execution_count": null,
      "outputs": []
    },
    {
      "cell_type": "markdown",
      "metadata": {
        "id": "bv1DFo97aBbR"
      },
      "source": [
        "## 4) Visualizing"
      ]
    },
    {
      "cell_type": "code",
      "metadata": {
        "id": "zO1WtsI1aWas"
      },
      "source": [
        "model = smapi.ols(formula='MPG ~ Acceleration', data=new_dataset).fit()\n",
        "\n",
        "X_plot = np.linspace(new_dataset['Acceleration'].min(), new_dataset['Acceleration'].max(), new_dataset.shape[0])\n",
        "Y_plot = model.params[1]*X_plot+model.params[0]\n",
        "\n",
        "g = sns.FacetGrid(new_dataset, size = 6)\n",
        "g = g.map(plt.scatter, \"Acceleration\", \"MPG\", edgecolor=\"w\")\n",
        "plt.plot(X_plot, Y_plot, color='r')\n",
        "plt.show()"
      ],
      "execution_count": null,
      "outputs": []
    },
    {
      "cell_type": "code",
      "metadata": {
        "id": "-mzYU1-JiHwx"
      },
      "source": [
        "model = smapi.ols(formula='MPG ~ Cylinders', data=new_dataset).fit()\n",
        "\n",
        "X_plot = np.linspace(new_dataset['Cylinders'].min(), new_dataset['Cylinders'].max(), new_dataset.shape[0])\n",
        "Y_plot = model.params[1]*X_plot+model.params[0]\n",
        "\n",
        "g = sns.FacetGrid(new_dataset, size = 6)\n",
        "g = g.map(plt.scatter, \"Cylinders\", \"MPG\", edgecolor=\"w\")\n",
        "plt.plot(X_plot, Y_plot, color='r')\n",
        "plt.show()"
      ],
      "execution_count": null,
      "outputs": []
    },
    {
      "cell_type": "code",
      "metadata": {
        "id": "5h-Ftk64iLsc"
      },
      "source": [
        "model = smapi.ols(formula='MPG ~ Weight', data=new_dataset).fit()\n",
        "\n",
        "X_plot = np.linspace(new_dataset['Weight'].min(), new_dataset['Weight'].max(), new_dataset.shape[0])\n",
        "Y_plot = model.params[1]*X_plot+model.params[0]\n",
        "\n",
        "g = sns.FacetGrid(new_dataset, size = 6)\n",
        "g = g.map(plt.scatter, \"Weight\", \"MPG\", edgecolor=\"w\")\n",
        "plt.plot(X_plot, Y_plot, color='r')\n",
        "plt.show()"
      ],
      "execution_count": null,
      "outputs": []
    },
    {
      "cell_type": "code",
      "metadata": {
        "id": "weZqejKviZJ7"
      },
      "source": [
        "model = smapi.ols(formula='MPG ~ I(Horsepower**2)', data=new_dataset).fit()\n",
        "\n",
        "X_plot = np.linspace(new_dataset['Horsepower'].min(), new_dataset['Horsepower'].max(), new_dataset.shape[0])\n",
        "Y_plot = model.params[1]*X_plot*X_plot+model.params[0]\n",
        "\n",
        "g = sns.FacetGrid(new_dataset, size = 6)\n",
        "g = g.map(plt.scatter, \"Horsepower\", \"MPG\", edgecolor=\"w\")\n",
        "plt.plot(X_plot, Y_plot, color='r')\n",
        "plt.show()"
      ],
      "execution_count": null,
      "outputs": []
    }
  ]
}