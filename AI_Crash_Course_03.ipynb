{
  "nbformat": 4,
  "nbformat_minor": 0,
  "metadata": {
    "colab": {
      "name": "AI-Crash_Course_03.ipynb",
      "provenance": [],
      "collapsed_sections": [],
      "toc_visible": true,
      "authorship_tag": "ABX9TyMLpuKYEA+mBAHPIPZdaoZz",
      "include_colab_link": true
    },
    "kernelspec": {
      "name": "python3",
      "display_name": "Python 3"
    },
    "language_info": {
      "name": "python"
    }
  },
  "cells": [
    {
      "cell_type": "markdown",
      "metadata": {
        "id": "view-in-github",
        "colab_type": "text"
      },
      "source": [
        "<a href=\"https://colab.research.google.com/github/KevinHern/AI-Crash-Course/blob/main/AI_Crash_Course_03.ipynb\" target=\"_parent\"><img src=\"https://colab.research.google.com/assets/colab-badge.svg\" alt=\"Open In Colab\"/></a>"
      ]
    },
    {
      "cell_type": "markdown",
      "metadata": {
        "id": "w3L6p00dGZs4"
      },
      "source": [
        "# Classification Algorithms\n",
        "\n",
        "[Presentation: AI Crash Course 03](https://view.genial.ly/6197f155542e220dab592309/presentation-ai-crashcourse03)"
      ]
    },
    {
      "cell_type": "markdown",
      "metadata": {
        "id": "v2hOe4K0Hmut"
      },
      "source": [
        "## 0) Preparations"
      ]
    },
    {
      "cell_type": "code",
      "metadata": {
        "id": "TEWUjG0IIJkk"
      },
      "source": [
        "# ----- Libraries ----- #\n",
        "\n",
        "# For graph plotting\n",
        "import matplotlib.pyplot as plt\n",
        "\n",
        "# For dataset manipulation\n",
        "import pandas as pd\n",
        "from sklearn.model_selection import train_test_split\n",
        "\n",
        "# For visualizing more complex maps\n",
        "import seaborn as sns\n",
        "\n",
        "# For statistical analysis and Models\n",
        "import statsmodels.api as sm\n",
        "import statsmodels.formula.api as smapi\n",
        "import numpy as np\n"
      ],
      "execution_count": 19,
      "outputs": []
    },
    {
      "cell_type": "code",
      "metadata": {
        "id": "8KMmvqGMGOXu"
      },
      "source": [
        "'''\n",
        "All the information regarding the dataset used for this demo can be found in the following link:\n",
        "https://www.kaggle.com/uciml/pima-indians-diabetes-database\n",
        "'''\n",
        "\n",
        "# Getting Dataset\n",
        "!wget https://drive.google.com/drive/u/0/folders/1fY_cIKVli5NbKI0mcBJGsti3Li8JvDqh"
      ],
      "execution_count": null,
      "outputs": []
    },
    {
      "cell_type": "code",
      "metadata": {
        "id": "tgXcpexoIG9P"
      },
      "source": [
        "# Loading Dataset and have a glimpse about it\n",
        "raw_dataset = pd.read_csv(\"diabetes.csv\")\n",
        "\n",
        "# Brief Statistical Summary of the dataset\n",
        "raw_dataset.describe()"
      ],
      "execution_count": null,
      "outputs": []
    },
    {
      "cell_type": "code",
      "metadata": {
        "id": "6W3AsBCPQMHu"
      },
      "source": [
        "# Lets check columns\n",
        "raw_dataset.columns"
      ],
      "execution_count": null,
      "outputs": []
    },
    {
      "cell_type": "code",
      "metadata": {
        "id": "FsYYb14mKiz6"
      },
      "source": [
        "# Summary of the dataset\n",
        "raw_dataset.head()"
      ],
      "execution_count": null,
      "outputs": []
    },
    {
      "cell_type": "code",
      "metadata": {
        "id": "pc8kp61PKzl5"
      },
      "source": [
        "# Returns a form of (# rows, # columns)\n",
        "raw_dataset.shape"
      ],
      "execution_count": null,
      "outputs": []
    },
    {
      "cell_type": "code",
      "metadata": {
        "id": "taL7hSd9LHpj"
      },
      "source": [
        "# Lets make a copy\n",
        "new_dataset = raw_dataset.copy()\n",
        "\n",
        "# Lets check for null values\n",
        "# df.dropna()\n",
        "print(new_dataset.isna().sum())\n",
        "\n",
        "# Dropping null rows\n",
        "new_dataset = new_dataset.dropna()\n",
        "\n",
        "# Checking new dataset\n",
        "new_dataset.head()"
      ],
      "execution_count": null,
      "outputs": []
    },
    {
      "cell_type": "code",
      "metadata": {
        "id": "l-wSRqvEPoLo"
      },
      "source": [
        "# Lets visualize the data\n",
        "sns.pairplot(new_dataset[[\"Pregnancies\", \"Glucose\", \"BloodPressure\", \"SkinThickness\", \"Insulin\", \"BMI\"]], diag_kind=\"kde\")"
      ],
      "execution_count": null,
      "outputs": []
    },
    {
      "cell_type": "code",
      "metadata": {
        "id": "xolCD5p4QFa8"
      },
      "source": [
        "# Splitting dataset into training and testing\n",
        "train, test = train_test_split(new_dataset, test_size=0.2)\n",
        "\n",
        "# Sepparating train set\n",
        "variables = list(raw_dataset.columns)\n",
        "variables.remove('Outcome')\n",
        "train_vars = train[variables]\n",
        "\n",
        "train_target = train[['Outcome']]"
      ],
      "execution_count": 39,
      "outputs": []
    },
    {
      "cell_type": "markdown",
      "metadata": {
        "id": "4rKsREMcO91a"
      },
      "source": [
        "## 1) Logistic Regression"
      ]
    },
    {
      "cell_type": "code",
      "metadata": {
        "id": "efOETJ7cPkMO"
      },
      "source": [
        "def stepwise_selection(dataset, target, significance_level = 0.05, debug=False):\n",
        "  # Setting up everything\n",
        "  independent_variables = list(dataset.columns)\n",
        "  independent_variables.remove(target)\n",
        "  formula = target + \"~ \"\n",
        "  max_iterations = len(independent_variables)\n",
        "\n",
        "  # Begin algorithm\n",
        "  for iteration in range(max_iterations):\n",
        "\n",
        "    # Testing for each independent variable\n",
        "    best_var = None\n",
        "    max_t_value = 0\n",
        "    for exog_variable in independent_variables:\n",
        "      model = None\n",
        "      if iteration == 0:\n",
        "        model = smapi.ols(formula=formula + exog_variable, data=dataset).fit()\n",
        "      else:\n",
        "        model = smapi.ols(formula=formula + \"+\" + exog_variable, data=dataset).fit()\n",
        "\n",
        "      if debug:\n",
        "        print(model.summary())\n",
        "\n",
        "      # Checking T and P Values\n",
        "      if model.pvalues[exog_variable] <= significance_level:\n",
        "        if abs(model.tvalues[exog_variable]) > max_t_value:\n",
        "          best_var = exog_variable\n",
        "          max_t_value = abs(model.tvalues[exog_variable])\n",
        "      else:\n",
        "        continue\n",
        "    \n",
        "    # If a variable with significance was found, then add to formula, else, stop algorithm\n",
        "    if best_var is not None:\n",
        "      if iteration == 0:\n",
        "        formula += best_var\n",
        "      else:\n",
        "        formula += \"+\" + best_var\n",
        "      independent_variables.remove(best_var)\n",
        "    else:\n",
        "      break\n",
        "\n",
        "  return smapi.ols(formula=formula, data=dataset).fit()"
      ],
      "execution_count": 21,
      "outputs": []
    },
    {
      "cell_type": "code",
      "metadata": {
        "id": "UBGnFIGtJ_9e"
      },
      "source": [
        "# Lets try to predict MPG based on Weight\n",
        "logistic_regression = stepwise_selection(dataset = train, target = 'Outcome')\n",
        "print(logistic_regression.summary())"
      ],
      "execution_count": null,
      "outputs": []
    },
    {
      "cell_type": "markdown",
      "metadata": {
        "id": "okEGIBRLLg1z"
      },
      "source": [
        "## 2) Decision Tree"
      ]
    },
    {
      "cell_type": "code",
      "metadata": {
        "id": "ncn_CmxWYqL1"
      },
      "source": [
        "from sklearn import tree\n",
        "\n",
        "dt_model = tree.DecisionTreeClassifier()\n",
        "dt_model = dt_model.fit(train_vars, train_target)"
      ],
      "execution_count": 57,
      "outputs": []
    },
    {
      "cell_type": "markdown",
      "metadata": {
        "id": "XO7kBZ-MPLaP"
      },
      "source": [
        "## 3) Support Vector Machine"
      ]
    },
    {
      "cell_type": "code",
      "metadata": {
        "id": "mAXYOI9RZxxM"
      },
      "source": [
        "from sklearn import svm\n",
        "\n",
        "svm_model = svm.SVC()\n",
        "svm_model = svm_model.fit(train_vars, train_target)"
      ],
      "execution_count": null,
      "outputs": []
    },
    {
      "cell_type": "markdown",
      "metadata": {
        "id": "bv1DFo97aBbR"
      },
      "source": [
        "## 4) Confusion Matrices"
      ]
    },
    {
      "cell_type": "code",
      "metadata": {
        "id": "tPBl-blTWqIZ"
      },
      "source": [
        "# Importing confusion matrix\n",
        "from tensorflow.math import confusion_matrix\n",
        "\n",
        "# Function that plots confusion matrix\n",
        "def plot_confusion_matrix(labels, predictions):\n",
        "  figure = plt.figure(figsize=(4, 4))\n",
        "  sns.heatmap(confusion_matrix(labels=labels, predictions=predictions), annot=True,cmap=plt.cm.Blues)\n",
        "  plt.tight_layout()\n",
        "  plt.ylabel('True label')\n",
        "  plt.xlabel('Predicted label')\n",
        "  plt.show()"
      ],
      "execution_count": 47,
      "outputs": []
    },
    {
      "cell_type": "markdown",
      "metadata": {
        "id": "-FQbp0vFleG2"
      },
      "source": [
        "### Logistic Regression"
      ]
    },
    {
      "cell_type": "code",
      "metadata": {
        "id": "CJuWwk9rllTU"
      },
      "source": [
        "threshold = 0.5\n",
        "\n",
        "lr_predictions = logistic_regression.predict(test)\n",
        "lr_predictions = list(map(lambda x: 1 if x > threshold else 0, lr_predictions))\n",
        "\n",
        "plot_confusion_matrix(labels=test[['Outcome']], predictions=lr_predictions)"
      ],
      "execution_count": null,
      "outputs": []
    },
    {
      "cell_type": "markdown",
      "metadata": {
        "id": "qpNUnEFpnn69"
      },
      "source": [
        "### Decision Tree"
      ]
    },
    {
      "cell_type": "code",
      "metadata": {
        "id": "gZUWov9jnmwj"
      },
      "source": [
        "dt_predictions = dt_model.predict(test[variables])\n",
        "\n",
        "plot_confusion_matrix(labels=test[['Outcome']], predictions=dt_predictions)"
      ],
      "execution_count": null,
      "outputs": []
    },
    {
      "cell_type": "markdown",
      "metadata": {
        "id": "fzR0sRYip_FS"
      },
      "source": [
        "### Support Vector Machine"
      ]
    },
    {
      "cell_type": "code",
      "metadata": {
        "id": "CqTmRTPTp9nU"
      },
      "source": [
        "svm_predictions = svm_model.predict(test[variables])\n",
        "\n",
        "plot_confusion_matrix(labels=test[['Outcome']], predictions=svm_predictions)"
      ],
      "execution_count": null,
      "outputs": []
    }
  ]
}