{
  "nbformat": 4,
  "nbformat_minor": 0,
  "metadata": {
    "colab": {
      "name": "AI-Crash_Course_02.ipynb",
      "provenance": [],
      "collapsed_sections": [],
      "toc_visible": true,
      "authorship_tag": "ABX9TyNlW+XjctsnEcPE1nlxCciU",
      "include_colab_link": true
    },
    "kernelspec": {
      "name": "python3",
      "display_name": "Python 3"
    },
    "language_info": {
      "name": "python"
    }
  },
  "cells": [
    {
      "cell_type": "markdown",
      "metadata": {
        "id": "view-in-github",
        "colab_type": "text"
      },
      "source": [
        "<a href=\"https://colab.research.google.com/github/KevinHern/AI-Crash-Course/blob/main/AI_Crash_Course_02.ipynb\" target=\"_parent\"><img src=\"https://colab.research.google.com/assets/colab-badge.svg\" alt=\"Open In Colab\"/></a>"
      ]
    },
    {
      "cell_type": "markdown",
      "metadata": {
        "id": "w3L6p00dGZs4"
      },
      "source": [
        "# Metrics for Regressions\n",
        "\n",
        "[Presentation: AI Crash Course 02](https://view.genial.ly/6196efb01bfa3c0dac953b67/presentation-ai-crashcourse02)"
      ]
    },
    {
      "cell_type": "markdown",
      "metadata": {
        "id": "v2hOe4K0Hmut"
      },
      "source": [
        "## 0) Preparations"
      ]
    },
    {
      "cell_type": "code",
      "metadata": {
        "id": "TEWUjG0IIJkk"
      },
      "source": [
        "# ----- Libraries ----- #\n",
        "\n",
        "# For graph plotting\n",
        "import matplotlib.pyplot as plt\n",
        "\n",
        "# For dataset manipulation\n",
        "import pandas as pd\n",
        "\n",
        "# For visualizing more complex maps\n",
        "import seaborn as sns\n",
        "\n",
        "# For statistical analysis and Models\n",
        "import statsmodels.api as sm\n",
        "import statsmodels.formula.api as smapi\n",
        "import numpy as np"
      ],
      "execution_count": null,
      "outputs": []
    },
    {
      "cell_type": "code",
      "metadata": {
        "id": "8KMmvqGMGOXu"
      },
      "source": [
        "'''\n",
        "All the information regarding the dataset used for this demo can be found in the following link:\n",
        "https://archive.ics.uci.edu/ml/datasets/auto+mpg\n",
        "'''\n",
        "\n",
        "# Getting Dataset\n",
        "!wget http://archive.ics.uci.edu/ml/machine-learning-databases/auto-mpg/auto-mpg.data"
      ],
      "execution_count": null,
      "outputs": []
    },
    {
      "cell_type": "code",
      "metadata": {
        "id": "tgXcpexoIG9P"
      },
      "source": [
        "# Loading Dataset and have a glimpse about it\n",
        "column_names = ['MPG','Cylinders','Displacement','Horsepower','Weight',\n",
        "                'Acceleration', 'Model_Year', 'Origin']\n",
        "\n",
        "raw_dataset = pd.read_csv(\"auto-mpg.data\", names=column_names,\n",
        "                      na_values = \"?\", comment='\\t',\n",
        "                      sep=\" \", skipinitialspace=True)\n",
        "\n",
        "# Brief Statistical Summary of the dataset\n",
        "raw_dataset.describe()"
      ],
      "execution_count": null,
      "outputs": []
    },
    {
      "cell_type": "code",
      "metadata": {
        "id": "6W3AsBCPQMHu"
      },
      "source": [
        "# Lets check columns\n",
        "raw_dataset.columns"
      ],
      "execution_count": null,
      "outputs": []
    },
    {
      "cell_type": "code",
      "metadata": {
        "id": "FsYYb14mKiz6"
      },
      "source": [
        "# Summary of the dataset\n",
        "raw_dataset.head()"
      ],
      "execution_count": null,
      "outputs": []
    },
    {
      "cell_type": "code",
      "metadata": {
        "id": "pc8kp61PKzl5"
      },
      "source": [
        "# Returns a form of (# rows, # columns)\n",
        "raw_dataset.shape"
      ],
      "execution_count": null,
      "outputs": []
    },
    {
      "cell_type": "code",
      "metadata": {
        "id": "taL7hSd9LHpj"
      },
      "source": [
        "# Lets make a copy\n",
        "new_dataset = raw_dataset.copy()\n",
        "\n",
        "# Lets check for null values\n",
        "new_dataset.isna().sum()\n",
        "\n",
        "# Dropping null rows\n",
        "new_dataset = new_dataset.dropna()\n",
        "\n",
        "# Checking new dataset\n",
        "new_dataset.head()"
      ],
      "execution_count": null,
      "outputs": []
    },
    {
      "cell_type": "code",
      "metadata": {
        "id": "l-wSRqvEPoLo"
      },
      "source": [
        "# Lets visualize the data\n",
        "sns.pairplot(new_dataset[[\"Cylinders\", \"Displacement\", \"Weight\", \"Acceleration\", \"Horsepower\", \"MPG\"]], diag_kind=\"kde\")"
      ],
      "execution_count": null,
      "outputs": []
    },
    {
      "cell_type": "markdown",
      "metadata": {
        "id": "4rKsREMcO91a"
      },
      "source": [
        "## 1) Linear Models"
      ]
    },
    {
      "cell_type": "code",
      "metadata": {
        "id": "UBGnFIGtJ_9e"
      },
      "source": [
        "# Lets try to predict MPG based on Acceleration\n",
        "model = smapi.ols(formula=\"MPG ~ Acceleration\", data=new_dataset)\n",
        "model = model.fit()\n",
        "print(model.summary())"
      ],
      "execution_count": null,
      "outputs": []
    },
    {
      "cell_type": "code",
      "metadata": {
        "id": "21ZH5P4WKQxZ"
      },
      "source": [
        "# Lets try to predict MPG based on Weight\n",
        "model = smapi.ols(formula=\"MPG ~ Weight\", data=new_dataset)\n",
        "model = model.fit()\n",
        "print(model.summary())"
      ],
      "execution_count": null,
      "outputs": []
    },
    {
      "cell_type": "code",
      "metadata": {
        "id": "VW40QKK9XNd-"
      },
      "source": [
        "# Lets try to predict MPG based on Displacement\n",
        "model = smapi.ols(formula=\"MPG ~ Displacement\", data=new_dataset)\n",
        "model = model.fit()\n",
        "print(model.summary())"
      ],
      "execution_count": null,
      "outputs": []
    },
    {
      "cell_type": "markdown",
      "metadata": {
        "id": "okEGIBRLLg1z"
      },
      "source": [
        "## 2) Multilinear Models"
      ]
    },
    {
      "cell_type": "code",
      "metadata": {
        "id": "ncn_CmxWYqL1"
      },
      "source": [
        "model = smapi.ols(formula=\"MPG ~ Acceleration + Weight\", data=new_dataset)\n",
        "model = model.fit()\n",
        "print(model.summary())"
      ],
      "execution_count": null,
      "outputs": []
    },
    {
      "cell_type": "code",
      "metadata": {
        "id": "1qxYYr1jKd_l"
      },
      "source": [
        "model = smapi.ols(formula=\"MPG ~ Acceleration + Weight + Displacement\", data=new_dataset)\n",
        "model = model.fit()\n",
        "print(model.summary())"
      ],
      "execution_count": null,
      "outputs": []
    },
    {
      "cell_type": "code",
      "metadata": {
        "id": "0T7fCBYSYEt7"
      },
      "source": [
        "model = smapi.ols(formula=\"MPG ~ Acceleration + Weight + Displacement + Cylinders\", data=new_dataset)\n",
        "model = model.fit()\n",
        "print(model.summary())"
      ],
      "execution_count": null,
      "outputs": []
    },
    {
      "cell_type": "code",
      "metadata": {
        "id": "-GxTF1WtXwmx"
      },
      "source": [
        "model = smapi.ols(formula=\"MPG ~ Acceleration + Weight + Displacement + Horsepower + Cylinders\", data=new_dataset)\n",
        "model = model.fit()\n",
        "print(model.summary())"
      ],
      "execution_count": null,
      "outputs": []
    },
    {
      "cell_type": "markdown",
      "metadata": {
        "id": "XO7kBZ-MPLaP"
      },
      "source": [
        "## 3) Polynomial Models"
      ]
    },
    {
      "cell_type": "code",
      "metadata": {
        "id": "mAXYOI9RZxxM"
      },
      "source": [
        "model = smapi.ols(formula=\"MPG ~ I(Horsepower**2) + Weight + Acceleration\", data=new_dataset)\n",
        "model = model.fit()\n",
        "print(model.summary())"
      ],
      "execution_count": null,
      "outputs": []
    },
    {
      "cell_type": "markdown",
      "metadata": {
        "id": "bv1DFo97aBbR"
      },
      "source": [
        "## 4) Metrics"
      ]
    },
    {
      "cell_type": "markdown",
      "metadata": {
        "id": "-FQbp0vFleG2"
      },
      "source": [
        "### Dataset Split"
      ]
    },
    {
      "cell_type": "code",
      "metadata": {
        "id": "CJuWwk9rllTU"
      },
      "source": [
        "# This will be useful to split our dataset into training and testing\n",
        "from sklearn.model_selection import train_test_split\n",
        "\n",
        "# Lets say test is 20%\n",
        "train, test = train_test_split(new_dataset, test_size=0.2)"
      ],
      "execution_count": 51,
      "outputs": []
    },
    {
      "cell_type": "markdown",
      "metadata": {
        "id": "qpNUnEFpnn69"
      },
      "source": [
        "### Training models"
      ]
    },
    {
      "cell_type": "code",
      "metadata": {
        "id": "gZUWov9jnmwj"
      },
      "source": [
        "# Model one: a simple linear regression\n",
        "model1 = smapi.ols(formula=\"MPG ~ Weight\", data=train)\n",
        "model1 = model1.fit()\n",
        "print(model1.summary())"
      ],
      "execution_count": null,
      "outputs": []
    },
    {
      "cell_type": "code",
      "metadata": {
        "id": "Sj9Cqy6pn2k7"
      },
      "source": [
        "# Model 2: a multilinear regression\n",
        "model2 = smapi.ols(formula=\"MPG ~ Acceleration + Weight + Displacement + Cylinders\", data=train)\n",
        "model2 = model2.fit()\n",
        "print(model2.summary())"
      ],
      "execution_count": null,
      "outputs": []
    },
    {
      "cell_type": "code",
      "metadata": {
        "id": "06lMT_pMoYd_"
      },
      "source": [
        "# Model 3: a polynomial regression\n",
        "model3 = smapi.ols(formula=\"MPG ~ I(Horsepower**2) + Weight + Acceleration\", data=train)\n",
        "model3 = model3.fit()\n",
        "print(model3.summary())"
      ],
      "execution_count": null,
      "outputs": []
    },
    {
      "cell_type": "markdown",
      "metadata": {
        "id": "fzR0sRYip_FS"
      },
      "source": [
        "### Making predictions"
      ]
    },
    {
      "cell_type": "code",
      "metadata": {
        "id": "CqTmRTPTp9nU"
      },
      "source": [
        "# Predictions from every model\n",
        "model1_predictions = model1.predict(test)\n",
        "model2_predictions = model2.predict(test)\n",
        "model3_predictions = model3.predict(test)"
      ],
      "execution_count": 55,
      "outputs": []
    },
    {
      "cell_type": "markdown",
      "metadata": {
        "id": "zLV4LJF3lhqY"
      },
      "source": [
        "### RMSE"
      ]
    },
    {
      "cell_type": "code",
      "metadata": {
        "id": "6dZ-Yll-llrV"
      },
      "source": [
        "# Importing to evaluate RMSE \n",
        "from statsmodels.tools.eval_measures import rmse\n",
        "\n",
        "model1_rmse = rmse(test['MPG'], model1_predictions)\n",
        "model2_rmse = rmse(test['MPG'], model2_predictions)\n",
        "model3_rmse = rmse(test['MPG'], model3_predictions)\n",
        "\n",
        "print(\"Model1 RMSE: {}\\nModel2 RMSE: {}\\nModel3 RMSE: {}\".format(model1_rmse, model2_rmse, model3_rmse))"
      ],
      "execution_count": null,
      "outputs": []
    },
    {
      "cell_type": "markdown",
      "metadata": {
        "id": "DuLniu8SljNH"
      },
      "source": [
        "### MAE"
      ]
    },
    {
      "cell_type": "code",
      "metadata": {
        "id": "zO1WtsI1aWas",
        "colab": {
          "base_uri": "https://localhost:8080/"
        },
        "outputId": "75918f87-eec9-446f-9953-0480353cdfb8"
      },
      "source": [
        "# Importing to evaluate MAE\n",
        "from statsmodels.tools.eval_measures import meanabs\n",
        "\n",
        "model1_mae = meanabs(test['MPG'], model1_predictions)\n",
        "model2_mae = meanabs(test['MPG'], model2_predictions)\n",
        "model3_mae = meanabs(test['MPG'], model3_predictions)\n",
        "\n",
        "print(\"Model1 MAE: {}\\nModel2 MAE: {}\\nModel3 MAE: {}\".format(model1_mae, model2_mae, model3_mae))"
      ],
      "execution_count": 57,
      "outputs": [
        {
          "output_type": "stream",
          "name": "stdout",
          "text": [
            "Model1 MAE: 2.890330807364871\n",
            "Model2 MAE: 2.775852434918535\n",
            "Model3 MAE: 2.8648236187058687\n"
          ]
        }
      ]
    },
    {
      "cell_type": "markdown",
      "metadata": {
        "id": "SCyX1LebqWIR"
      },
      "source": [
        "## 5) Stepwise"
      ]
    },
    {
      "cell_type": "code",
      "metadata": {
        "id": "XmstPJFgvW8w"
      },
      "source": [
        "def stepwise_selection(dataset, target, significance_level = 0.05, debug=False):\n",
        "  # Setting up everything\n",
        "  independent_variables = list(dataset.columns)\n",
        "  independent_variables.remove(target)\n",
        "  formula = target + \"~ \"\n",
        "  max_iterations = len(independent_variables)\n",
        "\n",
        "  # Begin algorithm\n",
        "  for iteration in range(max_iterations):\n",
        "\n",
        "    # Testing for each independent variable\n",
        "    best_var = None\n",
        "    max_t_value = 0\n",
        "    for exog_variable in independent_variables:\n",
        "      model = None\n",
        "      if iteration == 0:\n",
        "        model = smapi.ols(formula=formula + exog_variable, data=train).fit()\n",
        "      else:\n",
        "        model = smapi.ols(formula=formula + \"+\" + exog_variable, data=train).fit()\n",
        "\n",
        "      if debug:\n",
        "        print(model.summary())\n",
        "\n",
        "      # Checking T and P Values\n",
        "      if model.pvalues[exog_variable] <= significance_level:\n",
        "        if abs(model.tvalues[exog_variable]) > max_t_value:\n",
        "          best_var = exog_variable\n",
        "          max_t_value = abs(model.tvalues[exog_variable])\n",
        "      else:\n",
        "        continue\n",
        "    \n",
        "    # If a variable with significance was found, then add to formula, else, stop algorithm\n",
        "    if best_var is not None:\n",
        "      if iteration == 0:\n",
        "        formula += best_var\n",
        "      else:\n",
        "        formula += \"+\" + best_var\n",
        "      independent_variables.remove(best_var)\n",
        "    else:\n",
        "      break\n",
        "\n",
        "  return smapi.ols(formula=formula, data=dataset).fit()"
      ],
      "execution_count": 63,
      "outputs": []
    },
    {
      "cell_type": "code",
      "metadata": {
        "id": "r_S_eFqAqXf7"
      },
      "source": [
        "best_model = stepwise_selection(dataset=train, target='MPG')\n",
        "print(best_model.summary())\n",
        "print('\\n')\n",
        "best_model_predictions = best_model.predict(test)\n",
        "print(\n",
        "    \"Best Model RMSE: {}\\nBest Model MAE: {}\".format(\n",
        "        rmse(test['MPG'], best_model_predictions),\n",
        "        meanabs(test['MPG'], best_model_predictions)\n",
        "        )\n",
        "    )"
      ],
      "execution_count": null,
      "outputs": []
    }
  ]
}