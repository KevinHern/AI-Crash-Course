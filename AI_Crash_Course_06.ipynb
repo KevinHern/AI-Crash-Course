{
  "nbformat": 4,
  "nbformat_minor": 0,
  "metadata": {
    "colab": {
      "name": "AI-Crash_Course_06.ipynb",
      "provenance": [],
      "collapsed_sections": [],
      "toc_visible": true,
      "authorship_tag": "ABX9TyMFB16VWS6CQIhDhIM7I9XE",
      "include_colab_link": true
    },
    "kernelspec": {
      "name": "python3",
      "display_name": "Python 3"
    },
    "language_info": {
      "name": "python"
    },
    "accelerator": "GPU"
  },
  "cells": [
    {
      "cell_type": "markdown",
      "metadata": {
        "id": "view-in-github",
        "colab_type": "text"
      },
      "source": [
        "<a href=\"https://colab.research.google.com/github/KevinHern/AI-Crash-Course/blob/main/AI_Crash_Course_06.ipynb\" target=\"_parent\"><img src=\"https://colab.research.google.com/assets/colab-badge.svg\" alt=\"Open In Colab\"/></a>"
      ]
    },
    {
      "cell_type": "markdown",
      "metadata": {
        "id": "w3L6p00dGZs4"
      },
      "source": [
        "# Convolutional Neural Networks\n",
        "\n",
        "[Presentation: AI Crash Course 06](https://view.genial.ly/619fcd2a0ae1200db0d2d01c/presentation-ai-crashcourse06)"
      ]
    },
    {
      "cell_type": "markdown",
      "metadata": {
        "id": "v2hOe4K0Hmut"
      },
      "source": [
        "## 0) Preparations"
      ]
    },
    {
      "cell_type": "code",
      "metadata": {
        "id": "TEWUjG0IIJkk"
      },
      "source": [
        "# ----- Libraries ----- #\n",
        "\n",
        "# For graph plotting\n",
        "import matplotlib.pyplot as plt\n",
        "from tensorflow.math import confusion_matrix\n",
        "\n",
        "# For dataset manipulation\n",
        "import numpy as np\n",
        "\n",
        "# For visualizing more complex graphs\n",
        "import seaborn as sns\n",
        "\n",
        "# Neural networks\n",
        "import tensorflow as tf\n",
        "\n",
        "# Global constant for training acceleration\n",
        "AUTOTUNE = tf.data.AUTOTUNE"
      ],
      "execution_count": 1,
      "outputs": []
    },
    {
      "cell_type": "markdown",
      "metadata": {
        "id": "okEGIBRLLg1z"
      },
      "source": [
        "## 1) Dataset Preparations"
      ]
    },
    {
      "cell_type": "code",
      "metadata": {
        "id": "ncn_CmxWYqL1"
      },
      "source": [
        "# Lets use an already available dataset\n",
        "from tensorflow.keras import datasets\n",
        "\n",
        "# Lets try to classify numbers between 0 and 9\n",
        "(train_images, train_labels), (test_images, test_labels) = datasets.mnist.load_data()\n",
        "\n",
        "# A good practice when dealing with images: Normalize images from 0 to 1 or from -1 to 1.\n",
        "# We do not want our neural net to have big weights → one slight change and the outcome may be completely different!\n",
        "train_images, test_images = train_images / 255.0, test_images / 255.0"
      ],
      "execution_count": null,
      "outputs": []
    },
    {
      "cell_type": "code",
      "metadata": {
        "id": "8I53Qd8obhFg"
      },
      "source": [
        "# Lets set the classes that the dataset contains\n",
        "class_names = ['0', '1', '2', '3', '4',\n",
        "               '5', '6', '7', '8', '9']\n",
        "\n",
        "# Lets visualize a few samples\n",
        "plt.figure(figsize=(10,10))\n",
        "for i in range(25):\n",
        "    plt.subplot(5,5,i+1)\n",
        "    plt.xticks([])\n",
        "    plt.yticks([])\n",
        "    plt.grid(False)\n",
        "    plt.imshow(train_images[i])\n",
        "    # The CIFAR labels happen to be arrays, \n",
        "    # which is why you need the extra index\n",
        "    plt.xlabel(class_names[train_labels[i]])\n",
        "plt.show()"
      ],
      "execution_count": null,
      "outputs": []
    },
    {
      "cell_type": "markdown",
      "metadata": {
        "id": "MTY6_xH2-2eh"
      },
      "source": [
        "# Model"
      ]
    },
    {
      "cell_type": "markdown",
      "metadata": {
        "id": "Pv-iKZVrjP_W"
      },
      "source": [
        "## 2) Callbacks"
      ]
    },
    {
      "cell_type": "code",
      "metadata": {
        "id": "L6czjL55-5Lm"
      },
      "source": [
        "'''\n",
        "  CALLBACKS:\n",
        "  These are functions that are called once a certain amount of epochs end. These come very handful to deal with overfitting\n",
        "'''\n",
        "\n",
        "# Lets load an extension that helps us to visualize the performance of our model\n",
        "%load_ext tensorboard\n",
        "\n",
        "tensorboard_callback = tf.keras.callbacks.TensorBoard(log_dir='logs/model/', histogram_freq=1)\n",
        "checkpoint_callback = tf.keras.callbacks.ModelCheckpoint('logs/model/', monitor='val_loss', verbose=1, save_best_only=True, mode='min',save_freq='epoch')\n",
        "earlystopping_callback = tf.keras.callbacks.EarlyStopping(monitor='val_loss', min_delta=0.01, patience=3,)"
      ],
      "execution_count": null,
      "outputs": []
    },
    {
      "cell_type": "markdown",
      "metadata": {
        "id": "R9NmOn_vecR3"
      },
      "source": [
        "## 3) Construction"
      ]
    },
    {
      "cell_type": "code",
      "metadata": {
        "id": "17v9Qk4xcIPi"
      },
      "source": [
        "# Lets build the model. NOTE: this is the construction of the architecture of the model!\n",
        "model = tf.keras.models.Sequential([\n",
        "  # Feature Extraction\n",
        "  tf.keras.layers.InputLayer(input_shape=(28, 28, 1)),\n",
        "  tf.keras.layers.Conv2D(filters=64, kernel_size=(3, 3), strides=(1,1) ,activation='relu'),\n",
        "  tf.keras.layers.MaxPooling2D(pool_size=(2,2), strides=(1,1)),\n",
        "  tf.keras.layers.BatchNormalization(),\n",
        "  tf.keras.layers.Conv2D(filters=32, kernel_size=(3, 3), strides=(1,1) ,activation='relu'),\n",
        "  tf.keras.layers.MaxPooling2D(pool_size=(2,2), strides=(1,1)),\n",
        "  tf.keras.layers.BatchNormalization(),\n",
        "\n",
        "  # NN for classification\n",
        "  tf.keras.layers.Flatten(),\n",
        "  tf.keras.layers.Dense(units=128, activation='relu'),\n",
        "  tf.keras.layers.Dropout(rate=0.15),\n",
        "  tf.keras.layers.Dense(units=64, activation='relu'),\n",
        "  tf.keras.layers.Dense(units=len(class_names), activation='sigmoid')\n",
        "  ])\n",
        "\n",
        "# Now lets compile the model. NOTE: These are the finishing touches before having a fully functional model\n",
        "model.compile(loss=tf.keras.losses.SparseCategoricalCrossentropy(), optimizer='adam', metrics=['accuracy'])\n",
        "\n",
        "# Now lets train the model!\n",
        "model.fit(train_images,\n",
        "          train_labels,\n",
        "          epochs=100,\n",
        "          batch_size = 128,\n",
        "          validation_split=0.2,\n",
        "          callbacks=[tensorboard_callback, checkpoint_callback, earlystopping_callback]\n",
        "        )\n",
        "\n",
        "# Lets evaluate our model\n",
        "model.evaluate(x=test_images, y=test_labels, batch_size=128)"
      ],
      "execution_count": null,
      "outputs": []
    },
    {
      "cell_type": "code",
      "metadata": {
        "id": "MhQNj6_TBF1h"
      },
      "source": [
        "# Lets visualize\n",
        "%tensorboard --logdir \"logs/model/\" --port=8008"
      ],
      "execution_count": null,
      "outputs": []
    },
    {
      "cell_type": "markdown",
      "metadata": {
        "id": "STx8FeovBuTB"
      },
      "source": [
        "## 4) Confusion Matrix"
      ]
    },
    {
      "cell_type": "code",
      "metadata": {
        "id": "chHuh1dpo6VD"
      },
      "source": [
        "# Function that plots confusion matrix\n",
        "def plot_confusion_matrix(labels, predictions):\n",
        "  figure = plt.figure(figsize=(12, 12))\n",
        "  sns.heatmap(confusion_matrix(labels=labels, predictions=predictions), annot=True,cmap=plt.cm.Blues)\n",
        "  plt.tight_layout()\n",
        "  plt.ylabel('True label')\n",
        "  plt.xlabel('Predicted label')\n",
        "  plt.show()"
      ],
      "execution_count": 19,
      "outputs": []
    },
    {
      "cell_type": "code",
      "metadata": {
        "id": "pctpAoDNBtyo"
      },
      "source": [
        "predictions = model.predict(x=test_images)\n",
        "predictions = list(map(lambda x: np.argmax(x), predictions))\n",
        "\n",
        "plot_confusion_matrix(labels=test_labels, predictions=predictions)"
      ],
      "execution_count": null,
      "outputs": []
    }
  ]
}